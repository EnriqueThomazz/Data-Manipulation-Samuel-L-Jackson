{
 "cells": [
  {
   "cell_type": "markdown",
   "id": "9b0efce4-0056-44e5-a7f2-11fbb585c2fd",
   "metadata": {},
   "source": [
    "# Silver Transformations Samuel L. Jackson movies and series"
   ]
  },
  {
   "cell_type": "code",
   "execution_count": 1,
   "id": "0a04a5f3-f838-42fe-bd1f-cec3bee01c91",
   "metadata": {},
   "outputs": [],
   "source": [
    "from pyspark.sql import SparkSession\n",
    "from IPython.display import display as dis"
   ]
  },
  {
   "cell_type": "code",
   "execution_count": 2,
   "id": "1c3efa59-62cd-44a4-a065-d60d36a91fd2",
   "metadata": {},
   "outputs": [],
   "source": [
    "spark = SparkSession.builder.getOrCreate()"
   ]
  },
  {
   "cell_type": "markdown",
   "id": "4e17c540-0be3-41ea-b3cf-98a4387768d9",
   "metadata": {},
   "source": [
    "### Load data"
   ]
  },
  {
   "cell_type": "code",
   "execution_count": 3,
   "id": "a3ae75f8-cda4-4fb0-a593-c59d1165298a",
   "metadata": {},
   "outputs": [],
   "source": [
    "movies_cast_df = spark.read.json(\"../Bronze/samuel_movies_cast.json\")\n",
    "movies_crew_df = spark.read.json(\"../Bronze/samuel_movies_crew.json\")\n",
    "\n",
    "series_cast_df = spark.read.json(\"../Bronze/samuel_series_cast.json\")\n",
    "series_crew_df = spark.read.json(\"../Bronze/samuel_series_crew.json\")\n",
    "\n",
    "genres_df = spark.read.json(\"../Bronze/tmdb_genres.json\")"
   ]
  },
  {
   "cell_type": "markdown",
   "id": "39802c15-5ab8-4864-aebb-a64474bb4c75",
   "metadata": {},
   "source": [
    "### Transforming the data"
   ]
  },
  {
   "cell_type": "code",
   "execution_count": 4,
   "id": "eab5912e-037a-49bc-a41b-498c4c40700a",
   "metadata": {},
   "outputs": [
    {
     "name": "stdout",
     "output_type": "stream",
     "text": [
      "+-----+------------------+\n",
      "|   id|              name|\n",
      "+-----+------------------+\n",
      "|10766|              Soap|\n",
      "|10759|Action & Adventure|\n",
      "|   27|            Horror|\n",
      "|  878|   Science Fiction|\n",
      "|   53|          Thriller|\n",
      "|   36|           History|\n",
      "|10752|               War|\n",
      "|10764|           Reality|\n",
      "|10770|          TV Movie|\n",
      "|10763|              News|\n",
      "|10749|           Romance|\n",
      "|   18|             Drama|\n",
      "|10762|              Kids|\n",
      "|10765|  Sci-Fi & Fantasy|\n",
      "|10751|            Family|\n",
      "|   80|             Crime|\n",
      "|10767|              Talk|\n",
      "|   37|           Western|\n",
      "|10402|             Music|\n",
      "|   99|       Documentary|\n",
      "|10768|    War & Politics|\n",
      "|   16|         Animation|\n",
      "|   14|           Fantasy|\n",
      "| 9648|           Mystery|\n",
      "|   12|         Adventure|\n",
      "|   28|            Action|\n",
      "|   35|            Comedy|\n",
      "+-----+------------------+\n",
      "\n"
     ]
    }
   ],
   "source": [
    "# Removing duplicated genres\n",
    "genres_df = genres_df.drop_duplicates()\n",
    "\n",
    "genres_df.show(100)"
   ]
  },
  {
   "cell_type": "code",
   "execution_count": 5,
   "id": "510937ee-3636-4b55-87ec-83534afbfa6c",
   "metadata": {},
   "outputs": [],
   "source": [
    "# Removing duplicated series and movies\n",
    "\n",
    "movies_cast_df = movies_cast_df.drop_duplicates()\n",
    "movies_crew_df = movies_crew_df.drop_duplicates()\n",
    "\n",
    "series_cast_df = series_cast_df.drop_duplicates()\n",
    "series_crew_df = series_crew_df.drop_duplicates()"
   ]
  },
  {
   "cell_type": "code",
   "execution_count": 6,
   "id": "32d8badb-b640-4ff0-a4f8-a2ed85999e42",
   "metadata": {},
   "outputs": [],
   "source": [
    "# The movies and series from 'cast' doesnt have the attributes 'job' and 'department', so Im adding it\n",
    "from pyspark.sql.functions import lit\n",
    "\n",
    "movies_cast_df = movies_cast_df.withColumn(\"job\", lit(\"Actor\")).withColumn(\"department\", lit(\"Cast\"))\n",
    "\n",
    "series_cast_df = series_cast_df.withColumn(\"job\", lit(\"Actor\")).withColumn(\"department\", lit(\"Cast\"))"
   ]
  },
  {
   "cell_type": "code",
   "execution_count": 7,
   "id": "4f18261d-a12e-47e9-ad5b-c1deb98b244f",
   "metadata": {},
   "outputs": [],
   "source": [
    "# The movies doesnt have the attribute order nor character, so Im adding it\n",
    "movies_crew_df = movies_crew_df.withColumn(\"order\", lit(0)).withColumn(\"character\", lit(None))\n",
    "\n",
    "# Series crew doest have the 'character' information, adding it...\n",
    "series_crew_df = series_crew_df.withColumn(\"character\", lit(None))"
   ]
  },
  {
   "cell_type": "code",
   "execution_count": 8,
   "id": "d13f243a-7426-47ef-87b9-567335b91422",
   "metadata": {},
   "outputs": [],
   "source": [
    "# Merging the movies cast and crew together in a single dataframe\n",
    "\n",
    "movies_df = movies_cast_df.unionByName(movies_crew_df)"
   ]
  },
  {
   "cell_type": "code",
   "execution_count": 9,
   "id": "f85df205-79c0-4bad-822c-40cb5c19a04f",
   "metadata": {},
   "outputs": [],
   "source": [
    "# Merging the series cast and crew together in a single dataframe\n",
    "\n",
    "series_df = series_cast_df.unionByName(series_crew_df)"
   ]
  },
  {
   "cell_type": "markdown",
   "id": "bff0f503-c3ea-49c3-a6f9-af7b4c48c51f",
   "metadata": {},
   "source": [
    "### Saving the dataframes in parquet files"
   ]
  },
  {
   "cell_type": "code",
   "execution_count": 10,
   "id": "4b365e09-cffa-4470-b98e-954fa8f958e8",
   "metadata": {
    "scrolled": true
   },
   "outputs": [],
   "source": [
    "# Adding column 'year' in movies and series to partition it\n",
    "from pyspark.sql.functions import year, to_date\n",
    "from pyspark.sql.types import IntegerType\n",
    "\n",
    "movies_df = movies_df.withColumn(\"year\", year(to_date(movies_df[\"release_date\"], \"yyyy-MM-dd\")).cast(IntegerType()))\n",
    "\n",
    "series_df = series_df.withColumn(\"year\", year(to_date(series_df[\"first_air_date\"], \"yyyy-MM-dd\")).cast(IntegerType()))"
   ]
  },
  {
   "cell_type": "code",
   "execution_count": 11,
   "id": "8fb07215-ce02-4f18-9427-3d0a671ac766",
   "metadata": {},
   "outputs": [],
   "source": [
    "movies_df.write.parquet(\"../Silver/movies/samuel_movies.parquet\", mode=\"overwrite\", partitionBy=\"year\")\n",
    "\n",
    "series_df.write.parquet(\"../Silver/series/samuel_series.parquet\", mode=\"overwrite\", partitionBy=\"year\")\n",
    "\n",
    "genres_df.write.parquet(\"../Silver/genres/genres.parquet\", mode=\"overwrite\")"
   ]
  }
 ],
 "metadata": {
  "kernelspec": {
   "display_name": "Python 3 (ipykernel)",
   "language": "python",
   "name": "python3"
  },
  "language_info": {
   "codemirror_mode": {
    "name": "ipython",
    "version": 3
   },
   "file_extension": ".py",
   "mimetype": "text/x-python",
   "name": "python",
   "nbconvert_exporter": "python",
   "pygments_lexer": "ipython3",
   "version": "3.13.0"
  }
 },
 "nbformat": 4,
 "nbformat_minor": 5
}
